{
 "cells": [
  {
   "cell_type": "markdown",
   "metadata": {},
   "source": [
    "# Lesson 02: Парсинг HTML. BS, SQLAlchemy"
   ]
  },
  {
   "cell_type": "markdown",
   "metadata": {},
   "source": [
    "1) Развернуть у себя на компьютере/виртуальной машине/хостинге MongoDB и реализовать функцию, записывающую собранные вакансии в созданную БД"
   ]
  },
  {
   "cell_type": "code",
   "execution_count": 15,
   "metadata": {},
   "outputs": [],
   "source": [
    "import pandas as pd\n",
    "from pymongo import MongoClient\n",
    "from pprint import pprint"
   ]
  },
  {
   "cell_type": "code",
   "execution_count": 21,
   "metadata": {},
   "outputs": [],
   "source": [
    "# DB connectivity\n",
    "client = MongoClient('localhost', 27017)\n",
    "db = client['hh_sj_db']\n",
    "hh_collection = db.hh_db\n",
    "sj_collection = db.sj_db"
   ]
  },
  {
   "cell_type": "code",
   "execution_count": 22,
   "metadata": {},
   "outputs": [],
   "source": [
    "def csv_to_json(filename):\n",
    "    \"\"\"Function to parse csv to dictionary\"\"\"\n",
    "    data = pd.read_csv(filename, encoding='utf-16')\n",
    "    return data.to_dict('records')"
   ]
  },
  {
   "cell_type": "code",
   "execution_count": 23,
   "metadata": {},
   "outputs": [
    {
     "data": {
      "text/plain": [
       "<pymongo.results.InsertManyResult at 0x2c2b2270608>"
      ]
     },
     "execution_count": 23,
     "metadata": {},
     "output_type": "execute_result"
    }
   ],
   "source": [
    "# To insert hh.kz jobs data into MongoDB\n",
    "hh_collection.insert_many(csv_to_json('hh_data.csv'))"
   ]
  },
  {
   "cell_type": "code",
   "execution_count": 24,
   "metadata": {},
   "outputs": [
    {
     "data": {
      "text/plain": [
       "<pymongo.results.InsertManyResult at 0x2c2b24773c8>"
      ]
     },
     "execution_count": 24,
     "metadata": {},
     "output_type": "execute_result"
    }
   ],
   "source": [
    "# To insert superjob.ru jobs data into MongoDB\n",
    "sj_collection.insert_many(csv_to_json('sj_data.csv'))"
   ]
  },
  {
   "cell_type": "markdown",
   "metadata": {},
   "source": [
    "The output result of MongoDB screenshot\n",
    "![Image](Screenshot_of_MongoDB.png)"
   ]
  },
  {
   "cell_type": "markdown",
   "metadata": {},
   "source": [
    "2) Написать функцию, которая производит поиск и выводит на экран вакансии с заработной платой больше введенной суммы"
   ]
  },
  {
   "cell_type": "code",
   "execution_count": 25,
   "metadata": {},
   "outputs": [],
   "source": [
    "def search_min_salary(min_salary):\n",
    "    \"\"\"Function to search the min_salary\"\"\"\n",
    "    objects_1 = hh_collection.find({'min_salary': {'$gt': min_salary}})\n",
    "    objects_2 = sj_collection.find({'min_salary': {'$gt': min_salary}})\n",
    "    for obj in objects_1:\n",
    "        pprint(obj)\n",
    "        for obj in objects_2:\n",
    "            pprint(obj)"
   ]
  }
 ],
 "metadata": {
  "kernelspec": {
   "display_name": "Python 3",
   "language": "python",
   "name": "python3"
  },
  "language_info": {
   "codemirror_mode": {
    "name": "ipython",
    "version": 3
   },
   "file_extension": ".py",
   "mimetype": "text/x-python",
   "name": "python",
   "nbconvert_exporter": "python",
   "pygments_lexer": "ipython3",
   "version": "3.7.4"
  }
 },
 "nbformat": 4,
 "nbformat_minor": 2
}
