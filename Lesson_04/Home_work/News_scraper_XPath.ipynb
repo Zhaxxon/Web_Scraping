{
 "cells": [
  {
   "cell_type": "markdown",
   "metadata": {},
   "source": [
    "# Lesson 04:  Парсинг HTML. XPath"
   ]
  },
  {
   "cell_type": "markdown",
   "metadata": {},
   "source": [
    "1)Написать приложение, которое собирает основные новости с сайтов news.mail.ru, lenta.ru, yandex.news\n",
    "Для парсинга использовать xpath. Структура данных должна содержать:\n",
    "*название источника,\n",
    "*наименование новости,\n",
    "*ссылку на новость,\n",
    "*дата публикации\n",
    "\n",
    "2)Сложить все новости в БД"
   ]
  },
  {
   "cell_type": "code",
   "execution_count": 55,
   "metadata": {},
   "outputs": [],
   "source": [
    "from lxml import html\n",
    "import pandas as pd\n",
    "import requests\n",
    "from pprint import pprint\n",
    "from datetime import date"
   ]
  },
  {
   "cell_type": "code",
   "execution_count": 56,
   "metadata": {},
   "outputs": [],
   "source": [
    "mail_link = 'https://mail.ru'\n",
    "lenta_link = 'https://lenta.ru/'\n",
    "header = {'User-Agent': 'Mozilla/5.0 (iPhone; CPU iPhone OS 5_0 like Mac OS X) '\n",
    "                        'AppleWebKit/534.46 (KHTML, like Gecko) Version/5.1 '\n",
    "                        'Mobile/9A334 Safari/7534.48.3'}"
   ]
  },
  {
   "cell_type": "code",
   "execution_count": 57,
   "metadata": {},
   "outputs": [],
   "source": [
    "def request_to_mail(mail_link, header):\n",
    "    \"\"\"Function to collect the news data from mail.ru\"\"\"\n",
    "    link = mail_link\n",
    "    today = date.today()\n",
    "    response = requests.get(mail_link, headers=header)\n",
    "    root = html.fromstring(response.text)\n",
    "    news_blocks = root.xpath(\"//div[@id='news-1']/a[@class='list__item']\")\n",
    "    news_data =[]\n",
    "\n",
    "    for news_block in news_blocks:\n",
    "        news_source = link\n",
    "        news_title = news_block.xpath(\".//span[@class='list__item__title']/text()\")[0].replace('\\xa0', ' ')\n",
    "        news_link = news_block.xpath(\"./@href\")[0]\n",
    "        news_date = today.strftime(\"%d/%m/%Y\")\n",
    "        \n",
    "    \n",
    "        \n",
    "        news_data.append({\n",
    "            'news_source': news_source,\n",
    "            'news_title': news_title,\n",
    "            'news_link': news_link,\n",
    "            'news_date': news_date\n",
    "        })\n",
    "\n",
    "    pprint(news_data)\n",
    "    mail_ru_data = pd.DataFrame(news_data)\n",
    "    mail_ru_data.to_csv('mail_ru_data.csv', encoding='utf-8', index=False)"
   ]
  },
  {
   "cell_type": "code",
   "execution_count": 58,
   "metadata": {},
   "outputs": [
    {
     "name": "stdout",
     "output_type": "stream",
     "text": [
      "[{'news_date': '23/02/2020',\n",
      "  'news_link': 'https://r.mail.ru/n320977260?&test_id=63&rnd=12156988',\n",
      "  'news_source': 'https://mail.ru',\n",
      "  'news_title': 'Сапарбаев: Руководители школ начали чувствовать себя '\n",
      "                'князьками'},\n",
      " {'news_date': '23/02/2020',\n",
      "  'news_link': 'https://r.mail.ru/n320990012?&test_id=63&rnd=12156988',\n",
      "  'news_source': 'https://mail.ru',\n",
      "  'news_title': 'Туман накроет почти весь Казахстан'},\n",
      " {'news_date': '23/02/2020',\n",
      "  'news_link': 'https://r.mail.ru/n320983288?&test_id=63&rnd=12156988',\n",
      "  'news_source': 'https://mail.ru',\n",
      "  'news_title': 'Адвокат осужденных за убийство егеря: Там не было убийства'},\n",
      " {'news_date': '23/02/2020',\n",
      "  'news_link': 'https://r.mail.ru/n320969526?&test_id=63&rnd=12156988',\n",
      "  'news_source': 'https://mail.ru',\n",
      "  'news_title': 'Одну из школ Петропавловска закрыли на карантин'},\n",
      " {'news_date': '23/02/2020',\n",
      "  'news_link': 'https://r.mail.ru/n320972734?&test_id=63&rnd=12156988',\n",
      "  'news_source': 'https://mail.ru',\n",
      "  'news_title': 'Водитель внедорожника спровоцировал массовое ДТП в Алматы'}]\n"
     ]
    }
   ],
   "source": [
    "request_to_mail(main_link, header)"
   ]
  },
  {
   "cell_type": "code",
   "execution_count": 59,
   "metadata": {},
   "outputs": [],
   "source": [
    "def request_to_lenta(lenta_link, header):\n",
    "    \"\"\"Function to collect the news data from lenta.ru\"\"\"\n",
    "    link = lenta_link\n",
    "    today = date.today()\n",
    "    response = requests.get(lenta_link, headers=header)\n",
    "    root = html.fromstring(response.text)\n",
    "    news_blocks = root.xpath(\"//ul[@class='main-header__topics-list']//li/a\")\n",
    "    news_data =[]\n",
    "\n",
    "    for news_block in news_blocks:\n",
    "        news_source = link\n",
    "        news_title = news_block.xpath(\"./div[@class='card-mini__text-block']/div[@class='card-mini__title']/text()\")[0]\n",
    "        news_link = 'https://lenta.ru/' + str(news_block.xpath(\"./@href\")[0])\n",
    "        news_date = today.strftime(\"%d/%m/%Y\")\n",
    "\n",
    "        news_data.append({\n",
    "            'news_source': news_source,\n",
    "            'news_title': news_title,\n",
    "            'news_link': news_link,\n",
    "            'news_date': news_date\n",
    "        })\n",
    "        \n",
    "    pprint(news_data)\n",
    "    \n",
    "    lenta_ru_data = pd.DataFrame(news_data)\n",
    "    lenta_ru_data.to_csv('lenta_ru_data.csv', encoding='utf-8', index=False)"
   ]
  },
  {
   "cell_type": "code",
   "execution_count": 60,
   "metadata": {
    "scrolled": true
   },
   "outputs": [
    {
     "name": "stdout",
     "output_type": "stream",
     "text": [
      "[{'news_date': '23/02/2020',\n",
      "  'news_link': 'https://lenta.ru//news/2020/02/23/evertonars/',\n",
      "  'news_source': 'https://lenta.ru/',\n",
      "  'news_title': '«Арсенал» одержал волевую победу над «Эвертоном» в матче АПЛ'},\n",
      " {'news_date': '23/02/2020',\n",
      "  'news_link': 'https://lenta.ru//news/2020/02/23/tamozh/',\n",
      "  'news_source': 'https://lenta.ru/',\n",
      "  'news_title': 'Замглавы таможенного поста в Шереметьево заподозрили в '\n",
      "                'получении взятки'},\n",
      " {'news_date': '23/02/2020',\n",
      "  'news_link': 'https://lenta.ru//news/2020/02/23/rossiya/',\n",
      "  'news_source': 'https://lenta.ru/',\n",
      "  'news_title': 'Россиянин сломал девушке ребра за невкусный ужин'},\n",
      " {'news_date': '23/02/2020',\n",
      "  'news_link': 'https://lenta.ru//news/2020/02/23/reaction/',\n",
      "  'news_source': 'https://lenta.ru/',\n",
      "  'news_title': 'Тренер Логинова отреагировал на информацию о возбуждении '\n",
      "                'уголовного дела'},\n",
      " {'news_date': '23/02/2020',\n",
      "  'news_link': 'https://lenta.ru//news/2020/02/23/shepelev/',\n",
      "  'news_source': 'https://lenta.ru/',\n",
      "  'news_title': 'Коллега Шепелева объяснил уход телеведущего с Первого канала'},\n",
      " {'news_date': '23/02/2020',\n",
      "  'news_link': 'https://lenta.ru//news/2020/02/23/veter_zhkh/',\n",
      "  'news_source': 'https://lenta.ru/',\n",
      "  'news_title': 'Российский чиновник в честь праздника простил ветеранам долги '\n",
      "                'за услуги ЖКХ'},\n",
      " {'news_date': '23/02/2020',\n",
      "  'news_link': 'https://lenta.ru//news/2020/02/23/afterparty/',\n",
      "  'news_source': 'https://lenta.ru/',\n",
      "  'news_title': '«Дикая вечеринка» Фьюри после победы над Уайлдером попала на '\n",
      "                'видео'},\n",
      " {'news_date': '23/02/2020',\n",
      "  'news_link': 'https://lenta.ru//news/2020/02/23/goalcherez/',\n",
      "  'news_source': 'https://lenta.ru/',\n",
      "  'news_title': 'Форвард «Эвертона» забил мяч «Арсеналу» ударом через себя на '\n",
      "                'первой минуте игры'},\n",
      " {'news_date': '23/02/2020',\n",
      "  'news_link': 'https://lenta.ru//news/2020/02/23/close/',\n",
      "  'news_source': 'https://lenta.ru/',\n",
      "  'news_title': 'Из-за коронавируса в Корее захотели закрыть секту'}]\n"
     ]
    }
   ],
   "source": [
    "request_to_lenta(lenta_link, header)"
   ]
  },
  {
   "cell_type": "code",
   "execution_count": 61,
   "metadata": {},
   "outputs": [],
   "source": [
    "from pymongo import MongoClient"
   ]
  },
  {
   "cell_type": "code",
   "execution_count": 68,
   "metadata": {},
   "outputs": [],
   "source": [
    "# DB connectivity\n",
    "client = MongoClient('localhost', 27017)\n",
    "db = client['news_collection_db']\n",
    "mail_ru_collection = db.mail_ru_db\n",
    "lenta_ru_collection = db.lenta_ru_db"
   ]
  },
  {
   "cell_type": "code",
   "execution_count": 73,
   "metadata": {},
   "outputs": [],
   "source": [
    "def csv_to_json(filename):\n",
    "    \"\"\"Function to parse csv to dictionary\"\"\"\n",
    "    data = pd.read_csv(filename, encoding='utf-8')\n",
    "    return data.to_dict('records')"
   ]
  },
  {
   "cell_type": "code",
   "execution_count": 74,
   "metadata": {},
   "outputs": [
    {
     "data": {
      "text/plain": [
       "<pymongo.results.InsertManyResult at 0x193f8ce48c8>"
      ]
     },
     "execution_count": 74,
     "metadata": {},
     "output_type": "execute_result"
    }
   ],
   "source": [
    "# To insert mail.ru and lenta.ru news collections into MongoDB\n",
    "mail_ru_collection.insert_many(csv_to_json('mail_ru_data.csv'))"
   ]
  },
  {
   "cell_type": "code",
   "execution_count": 75,
   "metadata": {},
   "outputs": [
    {
     "data": {
      "text/plain": [
       "<pymongo.results.InsertManyResult at 0x193f8ce4808>"
      ]
     },
     "execution_count": 75,
     "metadata": {},
     "output_type": "execute_result"
    }
   ],
   "source": [
    "# To insert lenta.ru news collections into MongoDB\n",
    "lenta_ru_collection.insert_many(csv_to_json('lenta_ru_data.csv'))"
   ]
  }
 ],
 "metadata": {
  "kernelspec": {
   "display_name": "Python 3",
   "language": "python",
   "name": "python3"
  },
  "language_info": {
   "codemirror_mode": {
    "name": "ipython",
    "version": 3
   },
   "file_extension": ".py",
   "mimetype": "text/x-python",
   "name": "python",
   "nbconvert_exporter": "python",
   "pygments_lexer": "ipython3",
   "version": "3.7.4"
  }
 },
 "nbformat": 4,
 "nbformat_minor": 2
}
