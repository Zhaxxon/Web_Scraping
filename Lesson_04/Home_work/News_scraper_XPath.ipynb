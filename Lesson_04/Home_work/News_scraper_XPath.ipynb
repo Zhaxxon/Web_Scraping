{
 "cells": [
  {
   "cell_type": "code",
   "execution_count": 1,
   "metadata": {},
   "outputs": [],
   "source": [
    "from lxml import html\n",
    "import pandas as pd\n",
    "import requests\n",
    "from pprint import pprint"
   ]
  },
  {
   "cell_type": "code",
   "execution_count": 2,
   "metadata": {},
   "outputs": [],
   "source": [
    "main_link = 'https://mail.ru'\n",
    "header = {'User-Agent': 'Mozilla/5.0 (iPhone; CPU iPhone OS 5_0 like Mac OS X) '\n",
    "                        'AppleWebKit/534.46 (KHTML, like Gecko) Version/5.1 '\n",
    "                        'Mobile/9A334 Safari/7534.48.3'}"
   ]
  },
  {
   "cell_type": "code",
   "execution_count": 3,
   "metadata": {},
   "outputs": [],
   "source": [
    "def request_to_mail(main_link, header):\n",
    "    \"\"\"Function to collect the news data from mail.ru\"\"\"\n",
    "    link = main_link\n",
    "    news_data = []\n",
    "    news_title = []\n",
    "    news_source = []\n",
    "    news_link = []\n",
    "    news_date = []\n",
    "    response = requests.get(main_link, headers=header)\n",
    "    root = html.fromstring(response.text)\n",
    "    news_blocks = root.xpath(\"//div[@id='news-1']/a[@class='list__item']\")\n",
    "\n",
    "    for news_block in news_blocks:\n",
    "        news_title.append(news_block.xpath(\".//span[@class='list__item__title']/text()\"))\n",
    "        news_source.append(link)\n",
    "        news_link.append(news_block.xpath(\"./@href\"))\n",
    "\n",
    "    news_data.append({\n",
    "        'news_title': news_title,\n",
    "        'news_source': news_source,\n",
    "        'news_link': news_link\n",
    "    })\n",
    "    pprint(news_data)"
   ]
  },
  {
   "cell_type": "code",
   "execution_count": 4,
   "metadata": {},
   "outputs": [
    {
     "name": "stdout",
     "output_type": "stream",
     "text": [
      "[{'news_link': [['https://r.mail.ru/n320883907?&test_id=63&rnd=139036225'],\n",
      "                ['https://r.mail.ru/n320869552?&test_id=63&rnd=139036225'],\n",
      "                ['https://r.mail.ru/n320880287?&test_id=63&rnd=139036225'],\n",
      "                ['https://r.mail.ru/n320885291?&test_id=63&rnd=139036225'],\n",
      "                ['https://r.mail.ru/n320880540?&test_id=63&rnd=139036225']],\n",
      "  'news_source': ['https://mail.ru',\n",
      "                  'https://mail.ru',\n",
      "                  'https://mail.ru',\n",
      "                  'https://mail.ru',\n",
      "                  'https://mail.ru'],\n",
      "  'news_title': [['Назначен новый аким Кордайского района Жамбылской области'],\n",
      "                 ['Генпрокуратура обратилась к\\xa0казахстанцам из-за\\xa0'\n",
      "                  'призывов Аблязова'],\n",
      "                 ['Новое министерство предложили создать в\\xa0Казахстане'],\n",
      "                 ['На территории\\xa0Казахстана ожидаются снегопады и\\xa0дождь'],\n",
      "                 ['Против «резиновых» школ выступили в\\xa0Антикоррупционной '\n",
      "                  'службе']]}]\n"
     ]
    }
   ],
   "source": [
    "request_to_mail(main_link, header)"
   ]
  },
  {
   "cell_type": "code",
   "execution_count": null,
   "metadata": {},
   "outputs": [],
   "source": []
  }
 ],
 "metadata": {
  "kernelspec": {
   "display_name": "Python 3",
   "language": "python",
   "name": "python3"
  },
  "language_info": {
   "codemirror_mode": {
    "name": "ipython",
    "version": 3
   },
   "file_extension": ".py",
   "mimetype": "text/x-python",
   "name": "python",
   "nbconvert_exporter": "python",
   "pygments_lexer": "ipython3",
   "version": "3.7.4"
  }
 },
 "nbformat": 4,
 "nbformat_minor": 2
}
