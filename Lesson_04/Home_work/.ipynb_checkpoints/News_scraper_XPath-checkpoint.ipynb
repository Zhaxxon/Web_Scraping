{
 "cells": [
  {
   "cell_type": "code",
   "execution_count": 15,
   "metadata": {},
   "outputs": [],
   "source": [
    "from lxml import html\n",
    "import pandas as pd\n",
    "import requests\n",
    "from pprint import pprint\n",
    "from datetime import date"
   ]
  },
  {
   "cell_type": "code",
   "execution_count": 16,
   "metadata": {},
   "outputs": [],
   "source": [
    "main_link = 'https://mail.ru'\n",
    "header = {'User-Agent': 'Mozilla/5.0 (iPhone; CPU iPhone OS 5_0 like Mac OS X) '\n",
    "                        'AppleWebKit/534.46 (KHTML, like Gecko) Version/5.1 '\n",
    "                        'Mobile/9A334 Safari/7534.48.3'}"
   ]
  },
  {
   "cell_type": "code",
   "execution_count": 22,
   "metadata": {},
   "outputs": [],
   "source": [
    "def request_to_mail(main_link, header):\n",
    "    \"\"\"Function to collect the news data from mail.ru\"\"\"\n",
    "    link = main_link\n",
    "    today = date.today()\n",
    "    response = requests.get(main_link, headers=header)\n",
    "    root = html.fromstring(response.text)\n",
    "    news_blocks = root.xpath(\"//div[@id='news-1']/a[@class='list__item']\")\n",
    "    news_data =[]\n",
    "\n",
    "    for news_block in news_blocks:\n",
    "        news_source = link\n",
    "        news_title = news_block.xpath(\".//span[@class='list__item__title']/text()\")[0].replace('\\xa0', ' ')\n",
    "        news_link = news_block.xpath(\"./@href\")[0]\n",
    "        news_date = today.strftime(\"%d/%m/%Y\")\n",
    "        # result.append(news_data)\n",
    "        print(news_data)\n",
    "        news_data.append({\n",
    "            'news_source': news_source,\n",
    "            'news_title': news_title,\n",
    "            'news_link': news_link,\n",
    "            'news_date': news_date\n",
    "        })\n",
    "\n",
    "    mail_ru_data = pd.DataFrame(news_data)\n",
    "    mail_ru_data.to_csv('mail_ru_data.csv', encoding='utf-8', index=False)"
   ]
  },
  {
   "cell_type": "code",
   "execution_count": 23,
   "metadata": {},
   "outputs": [
    {
     "name": "stdout",
     "output_type": "stream",
     "text": [
      "[]\n",
      "[{'news_source': 'https://mail.ru', 'news_title': 'Директоров ломбардов «Гарант-24» задержали в трех городах РК', 'news_link': 'https://r.mail.ru/n320931534?&test_id=63&rnd=861543641', 'news_date': '22/02/2020'}]\n",
      "[{'news_source': 'https://mail.ru', 'news_title': 'Директоров ломбардов «Гарант-24» задержали в трех городах РК', 'news_link': 'https://r.mail.ru/n320931534?&test_id=63&rnd=861543641', 'news_date': '22/02/2020'}, {'news_source': 'https://mail.ru', 'news_title': 'Дархан Калетаев получил новую должность', 'news_link': 'https://r.mail.ru/n320924354?&test_id=63&rnd=861543641', 'news_date': '22/02/2020'}]\n",
      "[{'news_source': 'https://mail.ru', 'news_title': 'Директоров ломбардов «Гарант-24» задержали в трех городах РК', 'news_link': 'https://r.mail.ru/n320931534?&test_id=63&rnd=861543641', 'news_date': '22/02/2020'}, {'news_source': 'https://mail.ru', 'news_title': 'Дархан Калетаев получил новую должность', 'news_link': 'https://r.mail.ru/n320924354?&test_id=63&rnd=861543641', 'news_date': '22/02/2020'}, {'news_source': 'https://mail.ru', 'news_title': 'Полиция задержала Жанболата Мамая', 'news_link': 'https://r.mail.ru/n320916359?&test_id=63&rnd=861543641', 'news_date': '22/02/2020'}]\n",
      "[{'news_source': 'https://mail.ru', 'news_title': 'Директоров ломбардов «Гарант-24» задержали в трех городах РК', 'news_link': 'https://r.mail.ru/n320931534?&test_id=63&rnd=861543641', 'news_date': '22/02/2020'}, {'news_source': 'https://mail.ru', 'news_title': 'Дархан Калетаев получил новую должность', 'news_link': 'https://r.mail.ru/n320924354?&test_id=63&rnd=861543641', 'news_date': '22/02/2020'}, {'news_source': 'https://mail.ru', 'news_title': 'Полиция задержала Жанболата Мамая', 'news_link': 'https://r.mail.ru/n320916359?&test_id=63&rnd=861543641', 'news_date': '22/02/2020'}, {'news_source': 'https://mail.ru', 'news_title': 'Дождь со снегом ожидается в Казахстане', 'news_link': 'https://r.mail.ru/n320913560?&test_id=63&rnd=861543641', 'news_date': '22/02/2020'}]\n"
     ]
    }
   ],
   "source": [
    "request_to_mail(main_link, header)"
   ]
  },
  {
   "cell_type": "code",
   "execution_count": 24,
   "metadata": {},
   "outputs": [],
   "source": [
    "df = pd.read_csv('mail_ru_data.csv')"
   ]
  },
  {
   "cell_type": "code",
   "execution_count": 25,
   "metadata": {},
   "outputs": [
    {
     "data": {
      "text/html": [
       "<div>\n",
       "<style scoped>\n",
       "    .dataframe tbody tr th:only-of-type {\n",
       "        vertical-align: middle;\n",
       "    }\n",
       "\n",
       "    .dataframe tbody tr th {\n",
       "        vertical-align: top;\n",
       "    }\n",
       "\n",
       "    .dataframe thead th {\n",
       "        text-align: right;\n",
       "    }\n",
       "</style>\n",
       "<table border=\"1\" class=\"dataframe\">\n",
       "  <thead>\n",
       "    <tr style=\"text-align: right;\">\n",
       "      <th></th>\n",
       "      <th>news_source</th>\n",
       "      <th>news_title</th>\n",
       "      <th>news_link</th>\n",
       "      <th>news_date</th>\n",
       "    </tr>\n",
       "  </thead>\n",
       "  <tbody>\n",
       "    <tr>\n",
       "      <td>0</td>\n",
       "      <td>https://mail.ru</td>\n",
       "      <td>Директоров ломбардов «Гарант-24» задержали в т...</td>\n",
       "      <td>https://r.mail.ru/n320931534?&amp;test_id=63&amp;rnd=8...</td>\n",
       "      <td>22/02/2020</td>\n",
       "    </tr>\n",
       "    <tr>\n",
       "      <td>1</td>\n",
       "      <td>https://mail.ru</td>\n",
       "      <td>Дархан Калетаев получил новую должность</td>\n",
       "      <td>https://r.mail.ru/n320924354?&amp;test_id=63&amp;rnd=8...</td>\n",
       "      <td>22/02/2020</td>\n",
       "    </tr>\n",
       "    <tr>\n",
       "      <td>2</td>\n",
       "      <td>https://mail.ru</td>\n",
       "      <td>Полиция задержала Жанболата Мамая</td>\n",
       "      <td>https://r.mail.ru/n320916359?&amp;test_id=63&amp;rnd=8...</td>\n",
       "      <td>22/02/2020</td>\n",
       "    </tr>\n",
       "    <tr>\n",
       "      <td>3</td>\n",
       "      <td>https://mail.ru</td>\n",
       "      <td>Дождь со снегом ожидается в Казахстане</td>\n",
       "      <td>https://r.mail.ru/n320913560?&amp;test_id=63&amp;rnd=8...</td>\n",
       "      <td>22/02/2020</td>\n",
       "    </tr>\n",
       "    <tr>\n",
       "      <td>4</td>\n",
       "      <td>https://mail.ru</td>\n",
       "      <td>Пять человек получили огнестрельные ранения в ...</td>\n",
       "      <td>https://r.mail.ru/n320919878?&amp;test_id=63&amp;rnd=8...</td>\n",
       "      <td>22/02/2020</td>\n",
       "    </tr>\n",
       "  </tbody>\n",
       "</table>\n",
       "</div>"
      ],
      "text/plain": [
       "       news_source                                         news_title  \\\n",
       "0  https://mail.ru  Директоров ломбардов «Гарант-24» задержали в т...   \n",
       "1  https://mail.ru            Дархан Калетаев получил новую должность   \n",
       "2  https://mail.ru                  Полиция задержала Жанболата Мамая   \n",
       "3  https://mail.ru             Дождь со снегом ожидается в Казахстане   \n",
       "4  https://mail.ru  Пять человек получили огнестрельные ранения в ...   \n",
       "\n",
       "                                           news_link   news_date  \n",
       "0  https://r.mail.ru/n320931534?&test_id=63&rnd=8...  22/02/2020  \n",
       "1  https://r.mail.ru/n320924354?&test_id=63&rnd=8...  22/02/2020  \n",
       "2  https://r.mail.ru/n320916359?&test_id=63&rnd=8...  22/02/2020  \n",
       "3  https://r.mail.ru/n320913560?&test_id=63&rnd=8...  22/02/2020  \n",
       "4  https://r.mail.ru/n320919878?&test_id=63&rnd=8...  22/02/2020  "
      ]
     },
     "execution_count": 25,
     "metadata": {},
     "output_type": "execute_result"
    }
   ],
   "source": [
    "df"
   ]
  },
  {
   "cell_type": "code",
   "execution_count": null,
   "metadata": {},
   "outputs": [],
   "source": []
  }
 ],
 "metadata": {
  "kernelspec": {
   "display_name": "Python 3",
   "language": "python",
   "name": "python3"
  },
  "language_info": {
   "codemirror_mode": {
    "name": "ipython",
    "version": 3
   },
   "file_extension": ".py",
   "mimetype": "text/x-python",
   "name": "python",
   "nbconvert_exporter": "python",
   "pygments_lexer": "ipython3",
   "version": "3.7.4"
  }
 },
 "nbformat": 4,
 "nbformat_minor": 2
}
